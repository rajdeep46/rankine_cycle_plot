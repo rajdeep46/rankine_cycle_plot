{
 "cells": [
  {
   "cell_type": "code",
   "execution_count": 1,
   "id": "48684255-786e-49f4-8fa8-fe677406fb12",
   "metadata": {},
   "outputs": [
    {
     "name": "stdin",
     "output_type": "stream",
     "text": [
      "enter the pressure at point 1: 7380\n",
      "enter the Temp at point 1: 313\n"
     ]
    },
    {
     "name": "stdout",
     "output_type": "stream",
     "text": [
      "-1.0\n"
     ]
    },
    {
     "name": "stdin",
     "output_type": "stream",
     "text": [
      "enter the pressure at point 2: 238000\n",
      "enter the temp at point 5: 493\n"
     ]
    },
    {
     "name": "stdout",
     "output_type": "stream",
     "text": [
      "  Step    temperature    pressure    entropy          enthalpy    density    specfic_gravity\n",
      "------  -------------  ----------  ---------  ----------------  ---------  -----------------\n",
      "     1        313            7380    570.399  166906            992.232           0.00100783\n",
      "     2        317.789      238000    633.777  187127            990.423           0.00100967\n",
      "     3        398.948      238000   1590.07   528473            938.362           0.00106569\n",
      "     4        398.948      238000   7068.86        2.71423e+06    1.32881         0.752551\n",
      "     5        493          238000   7508.02        2.90908e+06    1.05708         0.946\n",
      "     6        313            7380   7508.02        2.33934e+06  992.232           0.00100783\n",
      "--------------------------------------------------------------\n",
      "heat input= 122977.35800000004\n",
      "mdot= 0.05714009595188522\n",
      "turbine work= 132202.6893141863\n",
      "pump work= 1650.6332886399832\n",
      "cycle work= 130552.05602554634\n",
      "cycle efficiency= 1.0615942491263008\n"
     ]
    },
    {
     "data": {
      "text/plain": [
       "CompletedProcess(args=['python', 'receiver_script.py', 'Hello, receiver script!'], returncode=2)"
      ]
     },
     "execution_count": 1,
     "metadata": {},
     "output_type": "execute_result"
    },
    {
     "data": {
      "image/png": "[encoded data removed]",
      "text/plain": [
       "<Figure size 640x480 with 1 Axes>"
      ]
     },
     "metadata": {},
     "output_type": "display_data"
    }
   ],
   "source": [
    "%reset -f\n",
    "from numpy import *\n",
    "import matplotlib.pyplot as PT\n",
    "import CoolProp.CoolProp as CP\n",
    "from tabulate import tabulate\n",
    "import subprocess\n",
    "\n",
    "P1=float(input(\"enter the pressure at point 1:\"))\n",
    "T1=float(input(\"enter the Temp at point 1:\"))\n",
    "S1=CP.PropsSI('S', 'T', T1, 'P', P1, 'water')\n",
    "#print(S1)\n",
    "H1=CP.PropsSI('H', 'T', T1, 'P', P1, 'water')\n",
    "D1=CP.PropsSI('D', 'P', P1, 'T', T1, 'water')\n",
    "SV1 = 1/D1\n",
    "Q1=CP.PropsSI('Q', 'T', T1, 'S', S1, 'water')\n",
    "print(Q1)\n",
    "#print(D1)\n",
    "#print(SV1)\n",
    "#print(H1)\n",
    "\n",
    "S2=S1/.90\n",
    "P2=float(input(\"enter the pressure at point 2:\"))\n",
    "T2=CP.PropsSI('T', 'S', S2, 'P', P2, 'water')\n",
    "#print(T2)\n",
    "H2=CP.PropsSI('H', 'T', T2, 'P', P2, 'water')\n",
    "D2=CP.PropsSI('D', 'P', P2, 'T', T2, 'water')\n",
    "SV2 = 1/D2\n",
    "#print(D2)\n",
    "#print(SV2)\n",
    "#print(H2)\n",
    "\n",
    "P3=P2\n",
    "S3=CP.PropsSI('S', 'Q', 0, 'P', P3, 'water')\n",
    "#print(S3)\n",
    "T3=CP.PropsSI('T', 'S', S3, 'P', P3, 'water')\n",
    "#print(T3)\n",
    "H3=CP.PropsSI('H', 'T', T3, 'Q', 0, 'water') #note\n",
    "D3=CP.PropsSI('D', 'Q', 0, 'T', T3, 'water') #note\n",
    "SV3 = 1/D3\n",
    "#print(D3)\n",
    "#print(H3)\n",
    "\n",
    "P4=P3\n",
    "T4=T3\n",
    "S4=CP.PropsSI('S', 'T', T4, 'Q', 1, 'water')\n",
    "#print(S4)\n",
    "H4=CP.PropsSI('H', 'T', T4, 'Q', 1, 'water')\n",
    "D4=CP.PropsSI('D', 'P', P4, 'Q', 1, 'water')\n",
    "SV4 = 1/D4\n",
    "#print(D1)\n",
    "#print(SV1)\n",
    "#print(H4)\n",
    "\n",
    "P5=P4\n",
    "T5=float(input(\"enter the temp at point 5:\"))\n",
    "S5=CP.PropsSI('S', 'T', T5, 'P', P4, 'water')\n",
    "#print(S5)\n",
    "H5=CP.PropsSI('H', 'T', T5, 'P', P5, 'water')\n",
    "D5=CP.PropsSI('D', 'P', P5, 'T', T5, 'water')\n",
    "SV5 = 1/D5\n",
    "#print(H5)\n",
    "\n",
    "S6=S5\n",
    "P6=P1\n",
    "T6=T1\n",
    "H6=CP.PropsSI('H', 'S', S6, 'P', P6, 'water')\n",
    "D6=CP.PropsSI('D', 'P', P6, 'T', T6, 'water')\n",
    "SV6 = 1/D6\n",
    "#print(D6)\n",
    "#print(H6)\n",
    "\n",
    "print(tabulate([[\"1\",T1,P1,S1,H1,D1,SV1],[\"2\",T2,P2,S2,H2,D2,SV2],[\"3\",T3,P3,S3,H3,D3,SV3],[\"4\",T4,P4,S4,H4,D4,SV4],[\"5\",T5,P5,S5,H5,D5,SV5],[\"6\",T6,P6,S6,H6,D6,SV6]], headers=[\"Step\",\"temperature\",\"pressure\",\"entropy\",\"enthalpy\",\"density\",\"specfic_gravity\"]))\n",
    "\n",
    "print(\"--------------------------------------------------------------\")\n",
    "\n",
    "N_P=.70\n",
    "N_T=.85\n",
    "HS2=1280565.3\n",
    "HS1=1029591.1\n",
    "msdot=.49\n",
    "WS=msdot*(HS2-HS1)\n",
    "mdot=(WS/(H6-H2))\n",
    "Wp=mdot*(H2-H1)/N_P\n",
    "Wt=mdot*(H5-H2)*N_T\n",
    "W=Wt-Wp\n",
    "print(\"heat input=\",WS)\n",
    "print(\"mdot=\",mdot)\n",
    "print(\"turbine work=\",Wt)\n",
    "print(\"pump work=\",Wp)\n",
    "print(\"cycle work=\",W)\n",
    "n=W/WS\n",
    "print(\"cycle efficiency=\",n)\n",
    "\n",
    "x=[S1,S2,S3,S4,S5,S6,S1]\n",
    "y=[T1,T2,T3,T4,T5,T6,T1]\n",
    "PT.plot(x,y,marker='o',color='red', linestyle='dashed')\n",
    "PT.ylim(273.15,650)\n",
    "PT.xlim(0,10000)\n",
    "PT.xlabel('ENTROPY')\n",
    "PT.ylabel('TEMPERATURE')\n",
    "PT.title('TS-Diagram')\n",
    "\n",
    "\n",
    "data = \"Hello, receiver script!\"\n",
    "subprocess.run([\"python\", \"receiver_script.py\", data])\n"
   ]
  },
  {
   "cell_type": "code",
   "execution_count": null,
   "id": "d1dc6a37-e6a7-47ff-ab19-7db3757ed349",
   "metadata": {},
   "outputs": [],
   "source": []
  }
 ],
 "metadata": {
  "kernelspec": {
   "display_name": "Python 3 (ipykernel)",
   "language": "python",
   "name": "python3"
  },
  "language_info": {
   "codemirror_mode": {
    "name": "ipython",
    "version": 3
   },
   "file_extension": ".py",
   "mimetype": "text/x-python",
   "name": "python",
   "nbconvert_exporter": "python",
   "pygments_lexer": "ipython3",
   "version": "3.10.9"
  }
 },
 "nbformat": 4,
 "nbformat_minor": 5
}
